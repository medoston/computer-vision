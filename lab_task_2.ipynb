{
  "nbformat": 4,
  "nbformat_minor": 0,
  "metadata": {
    "colab": {
      "provenance": [],
      "authorship_tag": "ABX9TyNjDme4t7Guxy6FyTI7/C4e",
      "include_colab_link": true
    },
    "kernelspec": {
      "name": "python3",
      "display_name": "Python 3"
    },
    "language_info": {
      "name": "python"
    }
  },
  "cells": [
    {
      "cell_type": "markdown",
      "metadata": {
        "id": "view-in-github",
        "colab_type": "text"
      },
      "source": [
        "<a href=\"https://colab.research.google.com/github/medoston/computer-vision/blob/main/lab_task_2.ipynb\" target=\"_parent\"><img src=\"https://colab.research.google.com/assets/colab-badge.svg\" alt=\"Open In Colab\"/></a>"
      ]
    },
    {
      "cell_type": "code",
      "execution_count": 2,
      "metadata": {
        "id": "idXfDyhjEp1Y"
      },
      "outputs": [],
      "source": [
        "from PIL import Image\n",
        "import numpy as np\n"
      ]
    },
    {
      "cell_type": "code",
      "source": [
        "# Load the image and convert it to grayscale\n",
        "image = Image.open('photo-1575936123452-b67c3203c357.jfif').convert('L')\n",
        "\n",
        "# Convert the image to a NumPy array\n",
        "image_array = np.array(image)\n",
        "\n",
        "# Defining the 2x2 filter\n",
        "filter = np.array([[1, 1], [1, 1]])\n",
        "\n",
        "# creating a zeros array to save the output\n",
        "Conv = np.zeros_like(image_array)\n",
        "\n",
        "# Apply the filter to the image\n",
        "for i in range(1, image_array.shape[0]-1):\n",
        "    for j in range(1, image_array.shape[1]-1):\n",
        "        Conv[i,j] = np.sum(image_array[i-1:i+1, j-1:j+1] * filter)\n",
        "\n",
        "\n",
        "print(Conv)"
      ],
      "metadata": {
        "colab": {
          "base_uri": "https://localhost:8080/"
        },
        "id": "qCCUk9D9FKVs",
        "outputId": "ab953376-b663-48e2-e14d-77c3241331af"
      },
      "execution_count": 3,
      "outputs": [
        {
          "output_type": "stream",
          "name": "stdout",
          "text": [
            "[[  0   0   0 ...   0   0   0]\n",
            " [  0  72  74 ... 176 175   0]\n",
            " [  0  72  73 ... 164 164   0]\n",
            " ...\n",
            " [  0  37  41 ... 106 108   0]\n",
            " [  0  37  41 ... 110 112   0]\n",
            " [  0   0   0 ...   0   0   0]]\n"
          ]
        }
      ]
    },
    {
      "cell_type": "code",
      "source": [],
      "metadata": {
        "id": "UTYgXWiWFozj"
      },
      "execution_count": null,
      "outputs": []
    }
  ]
}